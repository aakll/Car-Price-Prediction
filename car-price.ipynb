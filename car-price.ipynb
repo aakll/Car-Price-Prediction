{
 "cells": [
  {
   "cell_type": "code",
   "execution_count": null,
   "id": "95a7c5d8",
   "metadata": {},
   "outputs": [],
   "source": []
  },
  {
   "cell_type": "code",
   "execution_count": 1,
   "id": "8edc273b",
   "metadata": {},
   "outputs": [],
   "source": [
    "#Importing libraries\n",
    "import pandas as pd"
   ]
  },
  {
   "cell_type": "markdown",
   "id": "e4f49b85",
   "metadata": {},
   "source": [
    "Step 1 : Loading the dataset"
   ]
  },
  {
   "cell_type": "code",
   "execution_count": 2,
   "id": "622eda1b",
   "metadata": {},
   "outputs": [
    {
     "data": {
      "text/html": [
       "<div>\n",
       "<style scoped>\n",
       "    .dataframe tbody tr th:only-of-type {\n",
       "        vertical-align: middle;\n",
       "    }\n",
       "\n",
       "    .dataframe tbody tr th {\n",
       "        vertical-align: top;\n",
       "    }\n",
       "\n",
       "    .dataframe thead th {\n",
       "        text-align: right;\n",
       "    }\n",
       "</style>\n",
       "<table border=\"1\" class=\"dataframe\">\n",
       "  <thead>\n",
       "    <tr style=\"text-align: right;\">\n",
       "      <th></th>\n",
       "      <th>Make</th>\n",
       "      <th>Colour</th>\n",
       "      <th>Odometer (KM)</th>\n",
       "      <th>Doors</th>\n",
       "      <th>Price</th>\n",
       "    </tr>\n",
       "  </thead>\n",
       "  <tbody>\n",
       "    <tr>\n",
       "      <th>0</th>\n",
       "      <td>Honda</td>\n",
       "      <td>White</td>\n",
       "      <td>35431.0</td>\n",
       "      <td>4.0</td>\n",
       "      <td>15323.0</td>\n",
       "    </tr>\n",
       "    <tr>\n",
       "      <th>1</th>\n",
       "      <td>BMW</td>\n",
       "      <td>Blue</td>\n",
       "      <td>192714.0</td>\n",
       "      <td>5.0</td>\n",
       "      <td>19943.0</td>\n",
       "    </tr>\n",
       "    <tr>\n",
       "      <th>2</th>\n",
       "      <td>Honda</td>\n",
       "      <td>White</td>\n",
       "      <td>84714.0</td>\n",
       "      <td>4.0</td>\n",
       "      <td>28343.0</td>\n",
       "    </tr>\n",
       "    <tr>\n",
       "      <th>3</th>\n",
       "      <td>Toyota</td>\n",
       "      <td>White</td>\n",
       "      <td>154365.0</td>\n",
       "      <td>4.0</td>\n",
       "      <td>13434.0</td>\n",
       "    </tr>\n",
       "    <tr>\n",
       "      <th>4</th>\n",
       "      <td>Nissan</td>\n",
       "      <td>Blue</td>\n",
       "      <td>181577.0</td>\n",
       "      <td>3.0</td>\n",
       "      <td>14043.0</td>\n",
       "    </tr>\n",
       "  </tbody>\n",
       "</table>\n",
       "</div>"
      ],
      "text/plain": [
       "     Make Colour  Odometer (KM)  Doors    Price\n",
       "0   Honda  White        35431.0    4.0  15323.0\n",
       "1     BMW   Blue       192714.0    5.0  19943.0\n",
       "2   Honda  White        84714.0    4.0  28343.0\n",
       "3  Toyota  White       154365.0    4.0  13434.0\n",
       "4  Nissan   Blue       181577.0    3.0  14043.0"
      ]
     },
     "execution_count": 2,
     "metadata": {},
     "output_type": "execute_result"
    }
   ],
   "source": [
    "#Readind the dataset\n",
    "car_sales_data = pd.read_csv(\"https://raw.githubusercontent.com/mrdbourke/zero-to-mastery-ml/master/data/\" \\\n",
    "                              \"car-sales-extended-missing-data.csv\")\n",
    "\n",
    "#Displaying the first 5 rows of the dataset\n",
    "car_sales_data.head()"
   ]
  },
  {
   "cell_type": "code",
   "execution_count": 3,
   "id": "edbc7576",
   "metadata": {},
   "outputs": [
    {
     "name": "stdout",
     "output_type": "stream",
     "text": [
      "<class 'pandas.core.frame.DataFrame'>\n",
      "RangeIndex: 1000 entries, 0 to 999\n",
      "Data columns (total 5 columns):\n",
      " #   Column         Non-Null Count  Dtype  \n",
      "---  ------         --------------  -----  \n",
      " 0   Make           951 non-null    object \n",
      " 1   Colour         950 non-null    object \n",
      " 2   Odometer (KM)  950 non-null    float64\n",
      " 3   Doors          950 non-null    float64\n",
      " 4   Price          950 non-null    float64\n",
      "dtypes: float64(3), object(2)\n",
      "memory usage: 39.2+ KB\n"
     ]
    }
   ],
   "source": [
    "#Getting info about the dataset\n",
    "car_sales_data.info()"
   ]
  },
  {
   "cell_type": "code",
   "execution_count": 4,
   "id": "79a0e534",
   "metadata": {},
   "outputs": [],
   "source": [
    "#Here, we noticed the there are 50 null rows in the Price column (---> 50 unlabeled rows, so we will drop them)\n",
    "car_sales_data.dropna(subset=[\"Price\"], inplace=True)"
   ]
  },
  {
   "cell_type": "code",
   "execution_count": 5,
   "id": "86df3ab1",
   "metadata": {},
   "outputs": [
    {
     "name": "stdout",
     "output_type": "stream",
     "text": [
      "<class 'pandas.core.frame.DataFrame'>\n",
      "Index: 950 entries, 0 to 999\n",
      "Data columns (total 5 columns):\n",
      " #   Column         Non-Null Count  Dtype  \n",
      "---  ------         --------------  -----  \n",
      " 0   Make           903 non-null    object \n",
      " 1   Colour         904 non-null    object \n",
      " 2   Odometer (KM)  902 non-null    float64\n",
      " 3   Doors          903 non-null    float64\n",
      " 4   Price          950 non-null    float64\n",
      "dtypes: float64(3), object(2)\n",
      "memory usage: 44.5+ KB\n"
     ]
    }
   ],
   "source": [
    "#Let's check the data again\n",
    "car_sales_data.info()"
   ]
  },
  {
   "cell_type": "markdown",
   "id": "c96ffe2d",
   "metadata": {},
   "source": [
    "Now, we have 950 entries, and all of them are labeled\n",
    "\n",
    "It is time to start cleaning and handiling the data (filling missing values, converting non-numerical data to numbers)"
   ]
  },
  {
   "cell_type": "markdown",
   "id": "08b94688",
   "metadata": {},
   "source": [
    "Step 2: Building a Pipeline"
   ]
  },
  {
   "cell_type": "markdown",
   "id": "004023d1",
   "metadata": {},
   "source": [
    "A_Importing classes from scikit-learn"
   ]
  },
  {
   "cell_type": "code",
   "execution_count": 7,
   "id": "a62d3547",
   "metadata": {},
   "outputs": [],
   "source": [
    "#Importing SimpleImputer for handiling missing values\n",
    "from sklearn.impute import SimpleImputer\n",
    "\n",
    "#Importing OneHotEncoder for converting categorical data to numerical\n",
    "from sklearn.preprocessing import OneHotEncoder\n",
    "\n",
    "#Importing ColumnTransformer for applying transformations to specific columns\n",
    "from sklearn.compose import ColumnTransformer\n",
    "\n",
    "#Importing Pipeline for creating a sequence of transformations\n",
    "from sklearn.pipeline import Pipeline"
   ]
  },
  {
   "cell_type": "markdown",
   "id": "a20d391b",
   "metadata": {},
   "source": [
    "B_ Creating Preprocessing Pipelines"
   ]
  },
  {
   "cell_type": "code",
   "execution_count": 18,
   "id": "60dd8f27",
   "metadata": {},
   "outputs": [],
   "source": [
    "#Creating a Categorical transformer pipeline\n",
    "categorical_features = [\"Make\", \"Colour\"] # List of categorical features\n",
    "\n",
    "categorical_transformer = Pipeline(steps=[ \n",
    "    (\"imputer\", SimpleImputer(strategy=\"constant\", fill_value=\"missing\")), # Filling missing values with \"missing\"\n",
    "    (\"onehot\", OneHotEncoder(handle_unknown=\"ignore\")) # Converting categorical data to numerical using OneHotEncoder\n",
    "])                                                     #handle_unknown=\"ignore\" will ignore any unknown categories during transformation"
   ]
  },
  {
   "cell_type": "code",
   "execution_count": 8,
   "id": "2a66b4fc",
   "metadata": {},
   "outputs": [],
   "source": [
    "#Creating a door transformer pipeline\n",
    "door_feature = [\"Doors\"] # List of door features\n",
    "\n",
    "doors_transformer = Pipeline(steps=[\n",
    "    (\"imputer\", SimpleImputer(strategy=\"constant\", fill_value=4)) # Filling missing values with 4 (assuming most cars have 4 doors)\n",
    "])"
   ]
  },
  {
   "cell_type": "code",
   "execution_count": null,
   "id": "40c3dc0e",
   "metadata": {},
   "outputs": [],
   "source": [
    "#Creating a numerical transformer pipeline\n",
    "numerical_features = [\"Odometer (KM)\"] # List of numerical features\n",
    "\n",
    "numerical_transformer = Pipeline(steps=[\n",
    "    (\"imputer\", SimpleImSputer(strategy=\"median\")), # Filling missing values with the median of the column\n",
    "])\n"
   ]
  },
  {
   "cell_type": "markdown",
   "id": "2d5f861e",
   "metadata": {},
   "source": [
    "C_ Putting all individual transformer Pipelines into a single ColumnTransformer instance"
   ]
  },
  {
   "cell_type": "code",
   "execution_count": 21,
   "id": "71b47988",
   "metadata": {},
   "outputs": [],
   "source": [
    "preprocessor = ColumnTransformer(transformers=[\n",
    "    (\"categorical\", categorical_transformer, categorical_features), # Applying categorical transformer to categorical features\n",
    "    (\"doors\", doors_transformer, door_feature), # Applying doors transformer to door features\n",
    "    (\"numerical\", numerical_transformer, numerical_features) # Applying numerical transformer to numerical features\n",
    "])"
   ]
  },
  {
   "cell_type": "markdown",
   "id": "40b70bfc",
   "metadata": {},
   "source": [
    "Step 3: Trying Regression Models"
   ]
  },
  {
   "cell_type": "markdown",
   "id": "4733c906",
   "metadata": {},
   "source": [
    "Comparing our data to the [Scikit-Learn machine learning map](https://scikit-learn.org/stable/tutorial/machine_learning_map/index.html), we can see there's a handful of different regression models we can try.\n",
    "\n",
    "* [RidgeRegression](https://scikit-learn.org/stable/modules/generated/sklearn.linear_model.Ridge.html) - A linear regression model that add L2 regularization to shrink the coefficients and reduce overfitting\n",
    "* [SVR(kernel=\"linear\")](https://scikit-learn.org/stable/modules/generated/sklearn.svm.SVR.html) - A support vector regression model that fits a straight line relationship with a margin of tolerance arounf predictions\n",
    "* [SVR(kernel=\"rbf\")](https://scikit-learn.org/stable/modules/generated/sklearn.svm.SVR.html) -  A support vector regression model that uses a radial basis function (rbf) kernel to capture complex, non-linear relationships\n",
    "* [RandomForestRegressor](https://scikit-learn.org/stable/modules/generated/sklearn.ensemble.RandomForestRegressor.html) - An ensemble model that averages predictions from many decision trees trained on random subsets of data and features"
   ]
  },
  {
   "cell_type": "markdown",
   "id": "898f2b5d",
   "metadata": {},
   "source": [
    "A_ Importing the Models"
   ]
  },
  {
   "cell_type": "code",
   "execution_count": 11,
   "id": "f4474c58",
   "metadata": {},
   "outputs": [],
   "source": [
    "#Importing RidgeRegression for linear regression with L2 regularization\n",
    "from sklearn.linear_model import Ridge\n",
    "\n",
    "#Importing SVR(kernel=\"linear\") for support vector regression with linear kernel\n",
    "from sklearn.svm import SVR\n",
    "\n",
    "#Importing SVR(kernel=\"rbf\") for support vector regression with radial basis function kernel\n",
    "from sklearn.svm import SVR as SVR_RBF\n",
    "\n",
    "#Importing RandomForestRegressor for ensemble regression using random forests\n",
    "from sklearn.ensemble import RandomForestRegressor"
   ]
  },
  {
   "cell_type": "markdown",
   "id": "92aff560",
   "metadata": {},
   "source": [
    "B_ Creating dictionary of models"
   ]
  },
  {
   "cell_type": "code",
   "execution_count": 12,
   "id": "8a90d006",
   "metadata": {},
   "outputs": [],
   "source": [
    "#dictionary of models\n",
    "regression_models = {\n",
    "    \"Ridge\": Ridge(),\n",
    "    \"SVR (linear)\": SVR(kernel=\"linear\"),\n",
    "    \"SVR (rbf)\": SVR_RBF(kernel=\"rbf\"),\n",
    "    \"Random Forest\": RandomForestRegressor()\n",
    "}\n",
    "\n",
    "#empty dictionary for results\n",
    "regression_results = {}"
   ]
  },
  {
   "cell_type": "markdown",
   "id": "0c01417b",
   "metadata": {},
   "source": [
    "C_ Spliting the data into X (features Variables) and y (target variable)"
   ]
  },
  {
   "cell_type": "code",
   "execution_count": 14,
   "id": "d6b6c597",
   "metadata": {},
   "outputs": [],
   "source": [
    "car_sales_X = car_sales_data.drop(\"Price\", axis=1)\n",
    "\n",
    "car_sales_y = car_sales_data[\"Price\"]"
   ]
  },
  {
   "cell_type": "markdown",
   "id": "43c6689c",
   "metadata": {},
   "source": [
    "D_ Splitting the data into testing and training"
   ]
  },
  {
   "cell_type": "code",
   "execution_count": 15,
   "id": "3635c726",
   "metadata": {},
   "outputs": [],
   "source": [
    "#Importing train_test_split for splitting the data into training and testing sets\n",
    "from sklearn.model_selection import train_test_split\n",
    "\n",
    "car_X_train, car_X_test, car_y_train, car_y_test = train_test_split(car_sales_X, car_sales_y, test_size=0.2, random_state=42)"
   ]
  },
  {
   "cell_type": "markdown",
   "id": "b3bbf845",
   "metadata": {},
   "source": [
    "E_ Getting the results"
   ]
  },
  {
   "cell_type": "code",
   "execution_count": 24,
   "id": "8b1162a8",
   "metadata": {},
   "outputs": [
    {
     "name": "stdout",
     "output_type": "stream",
     "text": [
      "Fitting Ridge...\n",
      "Scoring Ridge...\n",
      "Fitting SVR (linear)...\n",
      "Scoring SVR (linear)...\n",
      "Fitting SVR (rbf)...\n",
      "Scoring SVR (rbf)...\n",
      "Fitting Random Forest...\n",
      "Scoring Random Forest...\n",
      "Done!\n"
     ]
    }
   ],
   "source": [
    "for model_name, model in regression_models.items():\n",
    "    #Creating a pipeline with preprocessor and model\n",
    "    pipeline = Pipeline(steps=[\n",
    "        (\"preprocessor\", preprocessor), # Applying preprocessor to the data\n",
    "        (\"model\", model) # Applying the model to the preprocessed data\n",
    "    ])\n",
    "    \n",
    "    #Fitting the model on the training data\n",
    "    print(f\"Fitting {model_name}...\")\n",
    "    pipeline.fit(car_X_train, car_y_train)\n",
    "    \n",
    "    #Getting the score of the model on the test data\n",
    "    print(f\"Scoring {model_name}...\")\n",
    "    score = pipeline.score(car_X_test, car_y_test)\n",
    "    \n",
    "    #Storing the results in the dictionary\n",
    "    regression_results[model_name] = score\n",
    "\n",
    "print(\"Done!\")"
   ]
  },
  {
   "cell_type": "code",
   "execution_count": 25,
   "id": "18f95283",
   "metadata": {},
   "outputs": [
    {
     "name": "stdout",
     "output_type": "stream",
     "text": [
      "Ridge: 0.25\n",
      "SVR (linear): -0.49\n",
      "SVR (rbf): 0.00\n",
      "Random Forest: 0.22\n"
     ]
    }
   ],
   "source": [
    "#Displaying the results\n",
    "for model_name, score in regression_results.items():\n",
    "    print(f\"{model_name}: {score:.2f}\")"
   ]
  },
  {
   "cell_type": "markdown",
   "id": "6653c6f2",
   "metadata": {},
   "source": [
    "Note: All models performed poorly on this dataset.\n",
    "\n",
    "As a beginner, I am choosing to proceed with Ridge regression for simplicity.\n",
    "\n",
    "In the future, I plan to improve the model with better tuning and feature engineering.\n"
   ]
  },
  {
   "cell_type": "markdown",
   "id": "b63b860e",
   "metadata": {},
   "source": [
    "Step 4: Saving the Model"
   ]
  },
  {
   "cell_type": "code",
   "execution_count": 26,
   "id": "a0355334",
   "metadata": {},
   "outputs": [],
   "source": [
    "#Importing joblib for saving the model\n",
    "from joblib import dump\n"
   ]
  },
  {
   "cell_type": "code",
   "execution_count": 27,
   "id": "e64febb8",
   "metadata": {},
   "outputs": [
    {
     "name": "stdout",
     "output_type": "stream",
     "text": [
      "Fitting final pipeline...\n"
     ]
    },
    {
     "data": {
      "text/plain": [
       "['car_price_predictor.joblib']"
      ]
     },
     "execution_count": 27,
     "metadata": {},
     "output_type": "execute_result"
    }
   ],
   "source": [
    "#Creating a final pipeline with preprocessor and Ridge regression model\n",
    "final_pipeline = Pipeline(steps=[\n",
    "    (\"preprocessor\", preprocessor),\n",
    "    (\"model\", Ridge(alpha=1.0))\n",
    "])\n",
    "\n",
    "#Fitting the final pipeline on the training data\n",
    "print(\"Fitting final pipeline...\")\n",
    "final_pipeline.fit(car_X_train, car_y_train)\n",
    "\n",
    "#Saving the final pipeline to a file\n",
    "dump(final_pipeline, \"car_price_predictor.joblib\")"
   ]
  }
 ],
 "metadata": {
  "kernelspec": {
   "display_name": "venv",
   "language": "python",
   "name": "python3"
  },
  "language_info": {
   "codemirror_mode": {
    "name": "ipython",
    "version": 3
   },
   "file_extension": ".py",
   "mimetype": "text/x-python",
   "name": "python",
   "nbconvert_exporter": "python",
   "pygments_lexer": "ipython3",
   "version": "3.13.1"
  }
 },
 "nbformat": 4,
 "nbformat_minor": 5
}
